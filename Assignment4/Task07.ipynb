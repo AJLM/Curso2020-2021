{
  "nbformat": 4,
  "nbformat_minor": 0,
  "metadata": {
    "colab": {
      "name": "Task07.ipynb",
      "provenance": [],
      "collapsed_sections": []
    },
    "kernelspec": {
      "name": "python3",
      "display_name": "Python 3"
    }
  },
  "cells": [
    {
      "cell_type": "markdown",
      "metadata": {
        "id": "nOOPLCHF7hLB"
      },
      "source": [
        "**Task 07: Querying RDF(s)**"
      ]
    },
    {
      "cell_type": "code",
      "metadata": {
        "id": "Yl9npCt8n6m-",
        "outputId": "022b3f90-e9eb-48b9-d37a-2a71257d4435",
        "colab": {
          "base_uri": "https://localhost:8080/",
          "height": 187
        }
      },
      "source": [
        "!pip install rdflib \n",
        "github_storage = \"https://raw.githubusercontent.com/FacultadInformatica-LinkedData/Curso2020-2021/master/Assignment4\""
      ],
      "execution_count": 1,
      "outputs": [
        {
          "output_type": "stream",
          "text": [
            "Collecting rdflib\n",
            "\u001b[?25l  Downloading https://files.pythonhosted.org/packages/d0/6b/6454aa1db753c0f8bc265a5bd5c10b5721a4bb24160fb4faf758cf6be8a1/rdflib-5.0.0-py3-none-any.whl (231kB)\n",
            "\u001b[K     |████████████████████████████████| 235kB 2.9MB/s \n",
            "\u001b[?25hCollecting isodate\n",
            "\u001b[?25l  Downloading https://files.pythonhosted.org/packages/9b/9f/b36f7774ff5ea8e428fdcfc4bb332c39ee5b9362ddd3d40d9516a55221b2/isodate-0.6.0-py2.py3-none-any.whl (45kB)\n",
            "\u001b[K     |████████████████████████████████| 51kB 4.3MB/s \n",
            "\u001b[?25hRequirement already satisfied: six in /usr/local/lib/python3.6/dist-packages (from rdflib) (1.15.0)\n",
            "Requirement already satisfied: pyparsing in /usr/local/lib/python3.6/dist-packages (from rdflib) (2.4.7)\n",
            "Installing collected packages: isodate, rdflib\n",
            "Successfully installed isodate-0.6.0 rdflib-5.0.0\n"
          ],
          "name": "stdout"
        }
      ]
    },
    {
      "cell_type": "markdown",
      "metadata": {
        "id": "XY7aPc86Bqoo"
      },
      "source": [
        "Leemos el fichero RDF de la forma que lo hemos venido haciendo"
      ]
    },
    {
      "cell_type": "code",
      "metadata": {
        "id": "9ERh415on7kF",
        "outputId": "e7254fff-86b0-496e-c61a-a85a8daaa2fa",
        "colab": {
          "base_uri": "https://localhost:8080/",
          "height": 34
        }
      },
      "source": [
        "from rdflib import Graph, Namespace, Literal\n",
        "from rdflib.namespace import RDF, RDFS\n",
        "g = Graph()\n",
        "g.namespace_manager.bind('ns', Namespace(\"http://somewhere#\"), override=False)\n",
        "g.namespace_manager.bind('vcard', Namespace(\"http://www.w3.org/2001/vcard-rdf/3.0#\"), override=False)\n",
        "g.parse(github_storage+\"/resources/example6.rdf\", format=\"xml\")"
      ],
      "execution_count": 2,
      "outputs": [
        {
          "output_type": "execute_result",
          "data": {
            "text/plain": [
              "<Graph identifier=Nffbee18b791046868472e3afa0543b4f (<class 'rdflib.graph.Graph'>)>"
            ]
          },
          "metadata": {
            "tags": []
          },
          "execution_count": 2
        }
      ]
    },
    {
      "cell_type": "markdown",
      "metadata": {
        "id": "qp1oe2Eddsvo"
      },
      "source": [
        "**TASK 7.1: List all subclasses of \"Person\" with RDFLib and SPARQL**"
      ]
    },
    {
      "cell_type": "code",
      "metadata": {
        "id": "aWu05a6mB2VU",
        "outputId": "f1176716-dbf7-408a-ae39-aeb8a0016ad1",
        "colab": {
          "base_uri": "https://localhost:8080/",
          "height": 68
        }
      },
      "source": [
        "#RDFLib\n",
        "ns = Namespace(\"http://somewhere#\")\n",
        "for s, p, o in g.triples((None, RDFS.subClassOf, ns.Person)):\n",
        "  for s2, p2, o2 in g.triples((None, RDFS.subClassOf, s)):\n",
        "    print(s2)\n",
        "\n",
        "\n",
        "#SPARQL\n",
        "from rdflib.plugins.sparql import prepareQuery\n",
        "query = prepareQuery('''\n",
        "  #PREFIX ex: <https://raw.githubusercontent.com/FacultadInformatica-LinkedData/Curso2020-2021/master/Assignment4>\n",
        "  SELECT DISTINCT ?x\n",
        "  WHERE{\n",
        "\t  ?x (rdfs:subClassOf/rdfs:subClassOf*) ns:Person\t\t      # normalmente sería \"?x rdfs:subClassOf ex:Establishment\", pero como queremos navegar no sólo por la primera línea de subclases, \n",
        "  }\t\t\t\t\t\t\t                                            # sino que por toda la jerarquía, se le añade un \"/subClassOf*\"\n",
        "  LIMIT 100\n",
        "  ''',\n",
        "  initNs = {\"rdfs\": RDFS, \"ns\": ns}\n",
        ")\n",
        "for i in g.query(query):\n",
        "  print(i)"
      ],
      "execution_count": 5,
      "outputs": [
        {
          "output_type": "stream",
          "text": [
            "http://somewhere#PhDstudent\n",
            "(rdflib.term.URIRef('http://somewhere#Researcher'),)\n",
            "(rdflib.term.URIRef('http://somewhere#PhDstudent'),)\n"
          ],
          "name": "stdout"
        }
      ]
    },
    {
      "cell_type": "markdown",
      "metadata": {
        "id": "gM3DASkTQQ5Y"
      },
      "source": [
        "**TASK 7.2: List all individuals of \"Person\" with RDFLib and SPARQL (remember the subClasses)**\n"
      ]
    },
    {
      "cell_type": "code",
      "metadata": {
        "id": "WbQNioiRC4w2",
        "outputId": "6da76690-435e-43dd-a0ad-fdcdd53f9541",
        "colab": {
          "base_uri": "https://localhost:8080/",
          "height": 204
        }
      },
      "source": [
        "#RDFLib\n",
        "for s, p, o in g.triples((None, RDF.type, ns.Person)):\n",
        "  for s2, p2, o2 in g.triples((None, RDFS.subClassOf, s)):\n",
        "    print(s2)\n",
        "\n",
        "\n",
        "#SPARQL\n",
        "from rdflib.plugins.sparql import prepareQuery\n",
        "query = prepareQuery('''\n",
        "  PREFIX ex: <https://raw.githubusercontent.com/FacultadInformatica-LinkedData/Curso2020-2021/master/Assignment4>\n",
        "  SELECT DISTINCT ?x\n",
        "  WHERE{\n",
        "\t  {?p (rdfs:subClassOf/rdfs:subClassOf*) ns:Person} UNION\n",
        "    {?x rdf:type ?p} UNION\n",
        "    {?x rdf:type ns:Person}\n",
        "  }\n",
        "  LIMIT 100\n",
        "  ''',\n",
        "  initNs = {\"rdfs\": RDFS, \"ns\": ns}\n",
        ")\n",
        "for i in g.query(query):\n",
        "  print(i)"
      ],
      "execution_count": 6,
      "outputs": [
        {
          "output_type": "stream",
          "text": [
            "(rdflib.term.URIRef('http://somewhere#JaneSmith'),)\n",
            "(rdflib.term.URIRef('http://somewhere#http://www.w3.org/2001/vcard-rdf/3.0/Given'),)\n",
            "(rdflib.term.URIRef('http://somewhere#http://www.w3.org/2001/vcard-rdf/3.0/Family'),)\n",
            "(rdflib.term.URIRef('http://somewhere#PhDstudent'),)\n",
            "(rdflib.term.URIRef('http://somewhere#http://www.w3.org/2001/vcard-rdf/3.0/FN'),)\n",
            "(rdflib.term.URIRef('http://somewhere#UPM'),)\n",
            "(rdflib.term.URIRef('http://somewhere#University'),)\n",
            "(rdflib.term.URIRef('http://somewhere#Researcher'),)\n",
            "(rdflib.term.URIRef('http://somewhere#JohnSmith'),)\n",
            "(rdflib.term.URIRef('http://somewhere#Person'),)\n",
            "(rdflib.term.URIRef('http://somewhere#SaraJones'),)\n"
          ],
          "name": "stdout"
        }
      ]
    },
    {
      "cell_type": "markdown",
      "metadata": {
        "id": "MXBqtBkJd22I"
      },
      "source": [
        "**TASK 7.3: List all individuals of \"Person\" and all their properties including their class with RDFLib and SPARQL**\n"
      ]
    },
    {
      "cell_type": "code",
      "metadata": {
        "id": "QN_qJglEC7BY",
        "outputId": "1adda78d-e1d8-4aeb-bb6e-2965dd8d1fe4",
        "colab": {
          "base_uri": "https://localhost:8080/",
          "height": 765
        }
      },
      "source": [
        "#RDFLib\n",
        "for s, p, o in g.triples((None, RDF.type, ns.Person)):\n",
        "  for s2, p2, o2 in g.triples((s2, None, None)):\n",
        "    print(s2)\n",
        "for s, p, o in g.triples((None, RDFS.subClassOf, ns.Person)):\n",
        "  for s2, p2, o2 in g.triples((None, RDF.type, s2)):\n",
        "    for s3, p3, o3 in g.triples((s3, None, None)):\n",
        "      print(s3)\n",
        "\n",
        "\n",
        "#SPARQL\n",
        "from rdflib.plugins.sparql import prepareQuery\n",
        "query = prepareQuery('''\n",
        "  PREFIX ex: <https://raw.githubusercontent.com/FacultadInformatica-LinkedData/Curso2020-2021/master/Assignment4>\n",
        "  SELECT DISTINCT ?x ?p\n",
        "  WHERE{\n",
        "  \t{?p (rdfs:subClassOf/rdfs:subClassOf*) ns:Person} UNION\n",
        "    {?x rdf:type ?p} UNION\n",
        "    {?x rdf:type ns:Person} UNION\n",
        "    {?x ?p ?o}\n",
        "  }\n",
        "  LIMIT 100\n",
        "  ''',\n",
        "  initNs = {\"rdfs\": RDFS, \"ns\": ns}\n",
        ")\n",
        "for i in g.query(query):\n",
        "  print(i)"
      ],
      "execution_count": 7,
      "outputs": [
        {
          "output_type": "stream",
          "text": [
            "http://somewhere#PhDstudent\n",
            "http://somewhere#PhDstudent\n",
            "http://somewhere#PhDstudent\n",
            "http://somewhere#PhDstudent\n",
            "(None, rdflib.term.URIRef('http://somewhere#Researcher'))\n",
            "(None, rdflib.term.URIRef('http://somewhere#PhDstudent'))\n",
            "(rdflib.term.URIRef('http://somewhere#JaneSmith'), rdflib.term.URIRef('http://somewhere#Researcher'))\n",
            "(rdflib.term.URIRef('http://somewhere#http://www.w3.org/2001/vcard-rdf/3.0/Given'), rdflib.term.URIRef('http://www.w3.org/2000/01/rdf-schema#Datatype'))\n",
            "(rdflib.term.URIRef('http://somewhere#http://www.w3.org/2001/vcard-rdf/3.0/Family'), rdflib.term.URIRef('http://www.w3.org/2000/01/rdf-schema#Property'))\n",
            "(rdflib.term.URIRef('http://somewhere#PhDstudent'), rdflib.term.URIRef('http://www.w3.org/2000/01/rdf-schema#Class'))\n",
            "(rdflib.term.URIRef('http://somewhere#http://www.w3.org/2001/vcard-rdf/3.0/FN'), rdflib.term.URIRef('http://www.w3.org/2000/01/rdf-schema#Datatype'))\n",
            "(rdflib.term.URIRef('http://somewhere#UPM'), rdflib.term.URIRef('http://somewhere#University'))\n",
            "(rdflib.term.URIRef('http://somewhere#University'), rdflib.term.URIRef('http://www.w3.org/2000/01/rdf-schema#Class'))\n",
            "(rdflib.term.URIRef('http://somewhere#Researcher'), rdflib.term.URIRef('http://www.w3.org/2000/01/rdf-schema#Class'))\n",
            "(rdflib.term.URIRef('http://somewhere#JohnSmith'), rdflib.term.URIRef('http://somewhere#Person'))\n",
            "(rdflib.term.URIRef('http://somewhere#Person'), rdflib.term.URIRef('http://www.w3.org/2000/01/rdf-schema#Class'))\n",
            "(rdflib.term.URIRef('http://somewhere#SaraJones'), rdflib.term.URIRef('http://somewhere#Person'))\n",
            "(rdflib.term.URIRef('http://somewhere#JohnSmith'), None)\n",
            "(rdflib.term.URIRef('http://somewhere#SaraJones'), None)\n",
            "(rdflib.term.URIRef('http://somewhere#PhDstudent'), rdflib.term.URIRef('http://www.w3.org/2000/01/rdf-schema#subClassOf'))\n",
            "(rdflib.term.URIRef('http://somewhere#http://www.w3.org/2001/vcard-rdf/3.0/FN'), rdflib.term.URIRef('http://www.w3.org/2000/01/rdf-schema#range'))\n",
            "(rdflib.term.URIRef('http://somewhere#JohnSmith'), rdflib.term.URIRef('http://somewhere#http://www.w3.org/2001/vcard-rdf/3.0/FN'))\n",
            "(rdflib.term.URIRef('http://somewhere#Researcher'), rdflib.term.URIRef('http://www.w3.org/2000/01/rdf-schema#subClassOf'))\n",
            "(rdflib.term.URIRef('http://somewhere#http://www.w3.org/2001/vcard-rdf/3.0/Given'), rdflib.term.URIRef('http://www.w3.org/1999/02/22-rdf-syntax-ns#type'))\n",
            "(rdflib.term.URIRef('http://somewhere#http://www.w3.org/2001/vcard-rdf/3.0/Family'), rdflib.term.URIRef('http://www.w3.org/1999/02/22-rdf-syntax-ns#type'))\n",
            "(rdflib.term.URIRef('http://somewhere#PhDstudent'), rdflib.term.URIRef('http://www.w3.org/1999/02/22-rdf-syntax-ns#type'))\n",
            "(rdflib.term.URIRef('http://somewhere#JaneSmith'), rdflib.term.URIRef('http://somewhere#http://www.w3.org/2001/vcard-rdf/3.0/Given'))\n",
            "(rdflib.term.URIRef('http://somewhere#SaraJones'), rdflib.term.URIRef('http://somewhere#http://www.w3.org/2001/vcard-rdf/3.0/Given'))\n",
            "(rdflib.term.URIRef('http://somewhere#JaneSmith'), rdflib.term.URIRef('http://somewhere#http://www.w3.org/2001/vcard-rdf/3.0/FN'))\n",
            "(rdflib.term.URIRef('http://somewhere#SaraJones'), rdflib.term.URIRef('http://somewhere#http://www.w3.org/2001/vcard-rdf/3.0/Family'))\n",
            "(rdflib.term.URIRef('http://somewhere#SaraJones'), rdflib.term.URIRef('http://www.w3.org/1999/02/22-rdf-syntax-ns#type'))\n",
            "(rdflib.term.URIRef('http://somewhere#JaneSmith'), rdflib.term.URIRef('http://www.w3.org/1999/02/22-rdf-syntax-ns#type'))\n",
            "(rdflib.term.URIRef('http://somewhere#SaraJones'), rdflib.term.URIRef('http://somewhere#http://www.w3.org/2001/vcard-rdf/3.0/FN'))\n",
            "(rdflib.term.URIRef('http://somewhere#JohnSmith'), rdflib.term.URIRef('http://somewhere#http://www.w3.org/2001/vcard-rdf/3.0/Family'))\n",
            "(rdflib.term.URIRef('http://somewhere#http://www.w3.org/2001/vcard-rdf/3.0/FN'), rdflib.term.URIRef('http://www.w3.org/1999/02/22-rdf-syntax-ns#type'))\n",
            "(rdflib.term.URIRef('http://somewhere#http://www.w3.org/2001/vcard-rdf/3.0/Family'), rdflib.term.URIRef('http://www.w3.org/2000/01/rdf-schema#range'))\n",
            "(rdflib.term.URIRef('http://somewhere#http://www.w3.org/2001/vcard-rdf/3.0/Given'), rdflib.term.URIRef('http://www.w3.org/2000/01/rdf-schema#range'))\n",
            "(rdflib.term.URIRef('http://somewhere#University'), rdflib.term.URIRef('http://www.w3.org/1999/02/22-rdf-syntax-ns#type'))\n",
            "(rdflib.term.URIRef('http://somewhere#JaneSmith'), rdflib.term.URIRef('http://somewhere#http://www.w3.org/2001/vcard-rdf/3.0/Family'))\n",
            "(rdflib.term.URIRef('http://somewhere#Researcher'), rdflib.term.URIRef('http://www.w3.org/1999/02/22-rdf-syntax-ns#type'))\n",
            "(rdflib.term.URIRef('http://somewhere#JohnSmith'), rdflib.term.URIRef('http://somewhere#http://www.w3.org/2001/vcard-rdf/3.0/Given'))\n",
            "(rdflib.term.URIRef('http://somewhere#JohnSmith'), rdflib.term.URIRef('http://www.w3.org/1999/02/22-rdf-syntax-ns#type'))\n",
            "(rdflib.term.URIRef('http://somewhere#Person'), rdflib.term.URIRef('http://www.w3.org/1999/02/22-rdf-syntax-ns#type'))\n",
            "(rdflib.term.URIRef('http://somewhere#UPM'), rdflib.term.URIRef('http://www.w3.org/1999/02/22-rdf-syntax-ns#type'))\n"
          ],
          "name": "stdout"
        }
      ]
    }
  ]
}